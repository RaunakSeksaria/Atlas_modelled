{
 "cells": [
  {
   "cell_type": "code",
   "execution_count": 15,
   "id": "9ae4ce07-62e9-4b45-b14e-e8bfd3894239",
   "metadata": {},
   "outputs": [],
   "source": [
    "import numpy as np\n",
    "import networkx\n",
    "import matplotlib.pyplot as plt\n",
    "import pandas as pd\n",
    "import seaborn as sns\n",
    "import os\n",
    "# import wordcloud.WordCloud"
   ]
  },
  {
   "cell_type": "markdown",
   "id": "ca0da6af-31d6-47d5-b782-ed0947fb2eaa",
   "metadata": {},
   "source": [
    "## Database creation:\n",
    "Source : [Github link for source](https://github.com/dr5hn/countries-states-cities-database/blob/master/csv/countries.csv): considering these as the officially recognised Countries    \n",
    "Imported CSVs in CSV/Imported   \n",
    "The CSVs after cleaning in CSV/Used  "
   ]
  },
  {
   "cell_type": "code",
   "execution_count": 16,
   "id": "b0b7a109-3530-4d8c-83b4-08cd962c6acc",
   "metadata": {},
   "outputs": [
    {
     "data": {
      "text/html": [
       "<div>\n",
       "<style scoped>\n",
       "    .dataframe tbody tr th:only-of-type {\n",
       "        vertical-align: middle;\n",
       "    }\n",
       "\n",
       "    .dataframe tbody tr th {\n",
       "        vertical-align: top;\n",
       "    }\n",
       "\n",
       "    .dataframe thead th {\n",
       "        text-align: right;\n",
       "    }\n",
       "</style>\n",
       "<table border=\"1\" class=\"dataframe\">\n",
       "  <thead>\n",
       "    <tr style=\"text-align: right;\">\n",
       "      <th></th>\n",
       "      <th>name</th>\n",
       "    </tr>\n",
       "    <tr>\n",
       "      <th>id</th>\n",
       "      <th></th>\n",
       "    </tr>\n",
       "  </thead>\n",
       "  <tbody>\n",
       "    <tr>\n",
       "      <th>1</th>\n",
       "      <td>Afghanistan</td>\n",
       "    </tr>\n",
       "    <tr>\n",
       "      <th>2</th>\n",
       "      <td>Aland Islands</td>\n",
       "    </tr>\n",
       "    <tr>\n",
       "      <th>3</th>\n",
       "      <td>Albania</td>\n",
       "    </tr>\n",
       "    <tr>\n",
       "      <th>4</th>\n",
       "      <td>Algeria</td>\n",
       "    </tr>\n",
       "    <tr>\n",
       "      <th>5</th>\n",
       "      <td>American Samoa</td>\n",
       "    </tr>\n",
       "    <tr>\n",
       "      <th>...</th>\n",
       "      <td>...</td>\n",
       "    </tr>\n",
       "    <tr>\n",
       "      <th>243</th>\n",
       "      <td>Wallis and Futuna Islands</td>\n",
       "    </tr>\n",
       "    <tr>\n",
       "      <th>244</th>\n",
       "      <td>Western Sahara</td>\n",
       "    </tr>\n",
       "    <tr>\n",
       "      <th>245</th>\n",
       "      <td>Yemen</td>\n",
       "    </tr>\n",
       "    <tr>\n",
       "      <th>246</th>\n",
       "      <td>Zambia</td>\n",
       "    </tr>\n",
       "    <tr>\n",
       "      <th>247</th>\n",
       "      <td>Zimbabwe</td>\n",
       "    </tr>\n",
       "  </tbody>\n",
       "</table>\n",
       "<p>250 rows × 1 columns</p>\n",
       "</div>"
      ],
      "text/plain": [
       "                          name\n",
       "id                            \n",
       "1                  Afghanistan\n",
       "2                Aland Islands\n",
       "3                      Albania\n",
       "4                      Algeria\n",
       "5               American Samoa\n",
       "..                         ...\n",
       "243  Wallis and Futuna Islands\n",
       "244             Western Sahara\n",
       "245                      Yemen\n",
       "246                     Zambia\n",
       "247                   Zimbabwe\n",
       "\n",
       "[250 rows x 1 columns]"
      ]
     },
     "execution_count": 16,
     "metadata": {},
     "output_type": "execute_result"
    }
   ],
   "source": [
    "df = pd.read_csv(\"CSV/Imported/countries.csv\",usecols=[\"id\",\"name\"],index_col=\"id\")\n",
    "df"
   ]
  },
  {
   "cell_type": "code",
   "execution_count": 17,
   "id": "552e1c31-a3c0-43d1-90ce-8166d680f879",
   "metadata": {},
   "outputs": [],
   "source": [
    "os.makedirs(\"CSV/Used\",exist_ok=True)\n",
    "df.to_csv(\"CSV/Used/countries\")"
   ]
  },
  {
   "cell_type": "code",
   "execution_count": null,
   "id": "ed511d74-d0ee-43c9-969d-00f3ca4aa406",
   "metadata": {},
   "outputs": [],
   "source": []
  },
  {
   "cell_type": "code",
   "execution_count": null,
   "id": "1337fef0-8806-42d7-85b2-2055240dcbcb",
   "metadata": {},
   "outputs": [],
   "source": []
  }
 ],
 "metadata": {
  "kernelspec": {
   "display_name": "Python 3 (ipykernel)",
   "language": "python",
   "name": "python3"
  },
  "language_info": {
   "codemirror_mode": {
    "name": "ipython",
    "version": 3
   },
   "file_extension": ".py",
   "mimetype": "text/x-python",
   "name": "python",
   "nbconvert_exporter": "python",
   "pygments_lexer": "ipython3",
   "version": "3.12.8"
  }
 },
 "nbformat": 4,
 "nbformat_minor": 5
}
